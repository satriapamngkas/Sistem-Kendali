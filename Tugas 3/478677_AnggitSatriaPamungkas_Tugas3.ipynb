{
 "cells": [
  {
   "cell_type": "markdown",
   "metadata": {},
   "source": [
    "# Nama  : Anggit Satria Pamungkas\n",
    "# Nim   : 21/478677/PA/20763"
   ]
  },
  {
   "cell_type": "code",
   "execution_count": 1,
   "metadata": {},
   "outputs": [
    {
     "name": "stdout",
     "output_type": "stream",
     "text": [
      "Requirement already satisfied: tbcontrol in /usr/local/lib/python3.10/site-packages (0.2.1)\n",
      "Requirement already satisfied: packaging in /usr/local/lib/python3.10/site-packages (from tbcontrol) (21.3)\n",
      "Requirement already satisfied: tqdm in /usr/local/lib/python3.10/site-packages (from tbcontrol) (4.64.1)\n",
      "Requirement already satisfied: scipy in /usr/local/lib/python3.10/site-packages (from tbcontrol) (1.9.0)\n",
      "Requirement already satisfied: numpy in /usr/local/lib/python3.10/site-packages (from tbcontrol) (1.21.6)\n",
      "Requirement already satisfied: pyparsing!=3.0.5,>=2.0.2 in /usr/local/lib/python3.10/site-packages (from packaging->tbcontrol) (3.0.9)\n",
      "Note: you may need to restart the kernel to use updated packages.\n"
     ]
    }
   ],
   "source": [
    "%pip install tbcontrol"
   ]
  },
  {
   "cell_type": "code",
   "execution_count": 2,
   "metadata": {},
   "outputs": [],
   "source": [
    "import numpy as np\n",
    "import sympy as sp\n",
    "sp.init_printing()\n",
    "from tbcontrol.symbolic import routh as rt\n",
    "from IPython.core.interactiveshell import InteractiveShell\n",
    "InteractiveShell.ast_node_interactivity = 'all'\n",
    "from ipywidgets import interact"
   ]
  },
  {
   "cell_type": "code",
   "execution_count": 3,
   "metadata": {},
   "outputs": [],
   "source": [
    "s = sp.Symbol('s')"
   ]
  },
  {
   "cell_type": "code",
   "execution_count": 4,
   "metadata": {},
   "outputs": [
    {
     "data": {
      "image/png": "[encoded data removed]",
      "text/latex": [
       "$\\displaystyle \\frac{700}{\\left(s + 15\\right) \\left(s^{2} + 4 s + 500\\right)}$"
      ],
      "text/plain": [
       "           700           \n",
       "─────────────────────────\n",
       "         ⎛ 2            ⎞\n",
       "(s + 15)⋅⎝s  + 4⋅s + 500⎠"
      ]
     },
     "execution_count": 4,
     "metadata": {},
     "output_type": "execute_result"
    }
   ],
   "source": [
    "G = 700/((s+15)*(s**2+4*s+500))\n",
    "G"
   ]
  },
  {
   "cell_type": "code",
   "execution_count": 5,
   "metadata": {},
   "outputs": [
    {
     "data": {
      "image/png": "[encoded data removed]",
      "text/latex": [
       "$\\displaystyle \\left(s + 15\\right) \\left(s^{2} + 4 s + 500\\right)$"
      ],
      "text/plain": [
       "         ⎛ 2            ⎞\n",
       "(s + 15)⋅⎝s  + 4⋅s + 500⎠"
      ]
     },
     "execution_count": 5,
     "metadata": {},
     "output_type": "execute_result"
    }
   ],
   "source": [
    "poly = sp.denom(G)\n",
    "poly"
   ]
  },
  {
   "cell_type": "code",
   "execution_count": 6,
   "metadata": {},
   "outputs": [
    {
     "data": {
      "image/png": "[encoded data removed]",
      "text/latex": [
       "$\\displaystyle \\left[ -15, \\  -2 - 4 \\sqrt{31} i, \\  -2 + 4 \\sqrt{31} i\\right]$"
      ],
      "text/plain": [
       "[-15, -2 - 4⋅√31⋅ⅈ, -2 + 4⋅√31⋅ⅈ]"
      ]
     },
     "execution_count": 6,
     "metadata": {},
     "output_type": "execute_result"
    }
   ],
   "source": [
    "roots = sp.solve(poly.as_poly())\n",
    "roots"
   ]
  },
  {
   "cell_type": "code",
   "execution_count": 7,
   "metadata": {},
   "outputs": [
    {
     "name": "stdout",
     "output_type": "stream",
     "text": [
      "Pole s1 =\n"
     ]
    },
    {
     "data": {
      "image/png": "[encoded data removed]",
      "text/latex": [
       "$\\displaystyle -15$"
      ],
      "text/plain": [
       "-15"
      ]
     },
     "execution_count": 7,
     "metadata": {},
     "output_type": "execute_result"
    },
    {
     "name": "stdout",
     "output_type": "stream",
     "text": [
      "Pole s2 =\n"
     ]
    },
    {
     "data": {
      "image/png": "[encoded data removed]",
      "text/latex": [
       "$\\displaystyle -2 - 4 \\sqrt{31} i$"
      ],
      "text/plain": [
       "-2 - 4⋅√31⋅ⅈ"
      ]
     },
     "execution_count": 7,
     "metadata": {},
     "output_type": "execute_result"
    },
    {
     "name": "stdout",
     "output_type": "stream",
     "text": [
      "Pole s3 =\n"
     ]
    },
    {
     "data": {
      "image/png": "[encoded data removed]",
      "text/latex": [
       "$\\displaystyle -2 + 4 \\sqrt{31} i$"
      ],
      "text/plain": [
       "-2 + 4⋅√31⋅ⅈ"
      ]
     },
     "execution_count": 7,
     "metadata": {},
     "output_type": "execute_result"
    }
   ],
   "source": [
    "print('Pole s1 =')\n",
    "roots[0]\n",
    "print('Pole s2 =')\n",
    "roots[1]\n",
    "print('Pole s3 =')\n",
    "roots[2]"
   ]
  },
  {
   "cell_type": "code",
   "execution_count": 8,
   "metadata": {},
   "outputs": [
    {
     "data": {
      "text/latex": [
       "$\\displaystyle \\left[\\begin{matrix}1 & 560\\\\19 & 7500\\\\\\frac{3140}{19} & 0\\\\7500 & 0\\end{matrix}\\right]$"
      ],
      "text/plain": [
       "⎡ 1    560 ⎤\n",
       "⎢          ⎥\n",
       "⎢ 19   7500⎥\n",
       "⎢          ⎥\n",
       "⎢3140      ⎥\n",
       "⎢────   0  ⎥\n",
       "⎢ 19       ⎥\n",
       "⎢          ⎥\n",
       "⎣7500   0  ⎦"
      ]
     },
     "execution_count": 8,
     "metadata": {},
     "output_type": "execute_result"
    }
   ],
   "source": [
    "routh = rt(poly.as_poly())\n",
    "routh"
   ]
  },
  {
   "cell_type": "code",
   "execution_count": 9,
   "metadata": {},
   "outputs": [
    {
     "name": "stdout",
     "output_type": "stream",
     "text": [
      "Sistem stabil karena semua nilai di kolom pertama positif\n"
     ]
    }
   ],
   "source": [
    "tabel = np.array(routh)\n",
    "stabil = 1\n",
    "for i in range(len(tabel)):\n",
    "        if tabel[i][0] < 0:\n",
    "            stabil = 0\n",
    "            break\n",
    "if stabil == 1:\n",
    "    print(\"Sistem stabil karena semua nilai di kolom pertama positif\")\n",
    "else:\n",
    "    print(\"Sistem tidak stabil karena ada nilai negatif di kolom pertama\")\n"
   ]
  },
  {
   "cell_type": "markdown",
   "metadata": {},
   "source": [
    "Tugas buat program"
   ]
  },
  {
   "cell_type": "code",
   "execution_count": 10,
   "metadata": {},
   "outputs": [
    {
     "name": "stdout",
     "output_type": "stream",
     "text": [
      "U(s) = \n"
     ]
    },
    {
     "data": {
      "image/png": "[encoded data removed]",
      "text/latex": [
       "$\\displaystyle s \\left(s + 2\\right) \\left(s^{2} + s + 1\\right) + 5$"
      ],
      "text/plain": [
       "          ⎛ 2        ⎞    \n",
       "s⋅(s + 2)⋅⎝s  + s + 1⎠ + 5"
      ]
     },
     "execution_count": 10,
     "metadata": {},
     "output_type": "execute_result"
    },
    {
     "name": "stdout",
     "output_type": "stream",
     "text": [
      "Tabel Routh = \n"
     ]
    },
    {
     "data": {
      "text/latex": [
       "$\\displaystyle \\left[\\begin{matrix}1 & 3 & 5\\\\3 & 2 & 0\\\\\\frac{7}{3} & 5 & 0\\\\- \\frac{31}{7} & 0 & 0\\\\5 & 0 & 0\\end{matrix}\\right]$"
      ],
      "text/plain": [
       "⎡  1    3  5⎤\n",
       "⎢           ⎥\n",
       "⎢  3    2  0⎥\n",
       "⎢           ⎥\n",
       "⎢ 7/3   5  0⎥\n",
       "⎢           ⎥\n",
       "⎢-31/7  0  0⎥\n",
       "⎢           ⎥\n",
       "⎣  5    0  0⎦"
      ]
     },
     "execution_count": 10,
     "metadata": {},
     "output_type": "execute_result"
    }
   ],
   "source": [
    "k = int(input(\"Masukan nilai K = \"))\n",
    "Gs = k/((s*(s**2+s+1)*(s+2))+k)\n",
    "Us = sp.denom(Gs)\n",
    "tabel = rt(Us.as_poly())\n",
    "print(\"U(s) = \")\n",
    "Us\n",
    "print(\"Tabel Routh = \")\n",
    "tabel"
   ]
  }
 ],
 "metadata": {
  "kernelspec": {
   "display_name": "Python 3.10.6 64-bit",
   "language": "python",
   "name": "python3"
  },
  "language_info": {
   "codemirror_mode": {
    "name": "ipython",
    "version": 3
   },
   "file_extension": ".py",
   "mimetype": "text/x-python",
   "name": "python",
   "nbconvert_exporter": "python",
   "pygments_lexer": "ipython3",
   "version": "3.10.6"
  },
  "vscode": {
   "interpreter": {
    "hash": "aee8b7b246df8f9039afb4144a1f6fd8d2ca17a180786b69acc140d282b71a49"
   }
  }
 },
 "nbformat": 4,
 "nbformat_minor": 4
}
